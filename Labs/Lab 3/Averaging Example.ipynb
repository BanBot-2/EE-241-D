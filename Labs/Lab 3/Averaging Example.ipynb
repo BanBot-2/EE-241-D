{
 "cells": [
  {
   "cell_type": "code",
   "execution_count": 1,
   "id": "b3045406",
   "metadata": {},
   "outputs": [],
   "source": [
    "import numpy as np"
   ]
  },
  {
   "cell_type": "code",
   "execution_count": 2,
   "id": "02d3a298",
   "metadata": {},
   "outputs": [
    {
     "name": "stdout",
     "output_type": "stream",
     "text": [
      "[[ 0  1  2  3  4  5  6  7]\n",
      " [ 8  9 10 11 12 13 14 15]\n",
      " [16 17 18 19 20 21 22 23]\n",
      " [24 25 26 27 28 29 30 31]\n",
      " [32 33 34 35 36 37 38 39]\n",
      " [40 41 42 43 44 45 46 47]\n",
      " [48 49 50 51 52 53 54 55]\n",
      " [56 57 58 59 60 61 62 63]]\n"
     ]
    }
   ],
   "source": [
    "x = np.arange(64).reshape(8, 8)\n",
    "print(x)"
   ]
  },
  {
   "cell_type": "code",
   "execution_count": 3,
   "id": "3e675231",
   "metadata": {},
   "outputs": [
    {
     "name": "stdout",
     "output_type": "stream",
     "text": [
      "[array([[ 0,  1],\n",
      "       [ 8,  9],\n",
      "       [16, 17],\n",
      "       [24, 25],\n",
      "       [32, 33],\n",
      "       [40, 41],\n",
      "       [48, 49],\n",
      "       [56, 57]]), array([[ 2,  3],\n",
      "       [10, 11],\n",
      "       [18, 19],\n",
      "       [26, 27],\n",
      "       [34, 35],\n",
      "       [42, 43],\n",
      "       [50, 51],\n",
      "       [58, 59]]), array([[ 4,  5],\n",
      "       [12, 13],\n",
      "       [20, 21],\n",
      "       [28, 29],\n",
      "       [36, 37],\n",
      "       [44, 45],\n",
      "       [52, 53],\n",
      "       [60, 61]]), array([[ 6,  7],\n",
      "       [14, 15],\n",
      "       [22, 23],\n",
      "       [30, 31],\n",
      "       [38, 39],\n",
      "       [46, 47],\n",
      "       [54, 55],\n",
      "       [62, 63]])]\n"
     ]
    }
   ],
   "source": [
    "scaling = 2\n",
    "splits = 8//scaling\n",
    "x = np.split(x, splits, 1)\n",
    "print(x)"
   ]
  },
  {
   "cell_type": "code",
   "execution_count": 4,
   "id": "56fc564f",
   "metadata": {},
   "outputs": [
    {
     "name": "stdout",
     "output_type": "stream",
     "text": [
      "[[ 0.5  8.5 16.5 24.5 32.5 40.5 48.5 56.5]\n",
      " [ 2.5 10.5 18.5 26.5 34.5 42.5 50.5 58.5]\n",
      " [ 4.5 12.5 20.5 28.5 36.5 44.5 52.5 60.5]\n",
      " [ 6.5 14.5 22.5 30.5 38.5 46.5 54.5 62.5]]\n"
     ]
    }
   ],
   "source": [
    "x = np.mean(x, 2)\n",
    "print(x)"
   ]
  },
  {
   "cell_type": "code",
   "execution_count": 5,
   "id": "6d900c1d",
   "metadata": {},
   "outputs": [
    {
     "name": "stdout",
     "output_type": "stream",
     "text": [
      "[array([[ 0.5,  8.5],\n",
      "       [ 2.5, 10.5],\n",
      "       [ 4.5, 12.5],\n",
      "       [ 6.5, 14.5]]), array([[16.5, 24.5],\n",
      "       [18.5, 26.5],\n",
      "       [20.5, 28.5],\n",
      "       [22.5, 30.5]]), array([[32.5, 40.5],\n",
      "       [34.5, 42.5],\n",
      "       [36.5, 44.5],\n",
      "       [38.5, 46.5]]), array([[48.5, 56.5],\n",
      "       [50.5, 58.5],\n",
      "       [52.5, 60.5],\n",
      "       [54.5, 62.5]])]\n"
     ]
    }
   ],
   "source": [
    "x = np.split(x, splits, 1)\n",
    "print(x)"
   ]
  },
  {
   "cell_type": "code",
   "execution_count": 6,
   "id": "1b47a744",
   "metadata": {},
   "outputs": [
    {
     "name": "stdout",
     "output_type": "stream",
     "text": [
      "[[ 4.5  6.5  8.5 10.5]\n",
      " [20.5 22.5 24.5 26.5]\n",
      " [36.5 38.5 40.5 42.5]\n",
      " [52.5 54.5 56.5 58.5]]\n"
     ]
    }
   ],
   "source": [
    "x = np.average(x, 2)\n",
    "print(x)"
   ]
  }
 ],
 "metadata": {
  "kernelspec": {
   "display_name": "Python 3",
   "language": "python",
   "name": "python3"
  },
  "language_info": {
   "codemirror_mode": {
    "name": "ipython",
    "version": 3
   },
   "file_extension": ".py",
   "mimetype": "text/x-python",
   "name": "python",
   "nbconvert_exporter": "python",
   "pygments_lexer": "ipython3",
   "version": "3.11.5"
  }
 },
 "nbformat": 4,
 "nbformat_minor": 5
}
